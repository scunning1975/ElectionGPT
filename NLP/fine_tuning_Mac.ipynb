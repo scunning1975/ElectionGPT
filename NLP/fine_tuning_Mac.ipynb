{
 "cells": [
  {
   "cell_type": "code",
   "execution_count": 3,
   "metadata": {},
   "outputs": [],
   "source": [
    "# for mac\n",
    "\n",
    "import eventregistry\n",
    "import pandas as pd\n",
    "from eventregistry import *\n",
    "import time, datetime\n",
    "import json\n",
    "import os\n",
    "from pandas import json_normalize\n",
    "\n",
    "er = EventRegistry(apiKey = \"671b8422-f66f-4b07-b1b3-4af12364ec07\")\n",
    "import openai\n",
    "\n",
    "\n",
    "\n"
   ]
  },
  {
   "cell_type": "code",
   "execution_count": 52,
   "metadata": {},
   "outputs": [],
   "source": [
    "json_folder = \"/Users/sunmingrun/Documents/GitHub/ElectionGPT/NLP/\"\n",
    "file_name = os.path.join(json_folder, 'output.json')  # Combine folder and file name\n",
    "with open(file_name, 'w') as json_file:\n",
    "    json.dump(res, json_file, indent=4)\n",
    "\n",
    "\n",
    "\n",
    "starttime = time.time()\n",
    "updatesAfterTm = None\n",
    "# while True:\n",
    "for i in range(10):\n",
    "    # q = QueryArticles(keywords=\"strike\", keywordsLoc=\"title\")\n",
    "    q = QueryArticles (keywords = QueryItems.OR([\"Trump\", \"election\", \"Harris\"]),\n",
    "                      lang=\"eng\",\n",
    "                      dataType = [\"news\", \"blog\"])\n",
    "                      #keywordOper=\"Trump\" or \"Harris\")\n",
    "    q.setRequestedResult(\n",
    "        RequestArticlesRecentActivity(\n",
    "            # download at most 2000 articles. if less of matching articles were added in last 10 minutes, less will be returned\n",
    "            maxArticleCount=10,\n",
    "            # specify the last time that was used when making the request - only articles added after that will be potentially returned\n",
    "            updatesAfterTm = updatesAfterTm\n",
    "        ))\n",
    "\n",
    "    res = er.execQuery(q)\n",
    "    \n",
    "    print(json.dumps(res, indent=4))\n"
   ]
  },
  {
   "cell_type": "code",
   "execution_count": 53,
   "metadata": {},
   "outputs": [],
   "source": [
    "\n",
    "with open(\"/Users/sunmingrun/Documents/GitHub/ElectionGPT/NLP/output.json\", 'r') as f:\n",
    "    data = json.load(f)\n",
    "\n",
    "# Extract the relevant part ('activity' in your case)\n",
    "results = data.get('recentActivityArticles', {}).get('activity', [])\n",
    "df = json_normalize(results)\n",
    "df = df.applymap(lambda x: x[0] if isinstance(x, list) and len(x) > 0 else x)\n",
    "df.to_csv('fullnews_data.csv', index=False)\n",
    "\n"
   ]
  },
  {
   "cell_type": "code",
   "execution_count": null,
   "metadata": {},
   "outputs": [],
   "source": []
  },
  {
   "cell_type": "code",
   "execution_count": 65,
   "metadata": {},
   "outputs": [],
   "source": [
    "# this one from sand box worked\n",
    "query = {\n",
    "  \"$query\": {\n",
    "    \"$and\": [\n",
    "      {\n",
    "        \"conceptUri\": \"http://en.wikipedia.org/wiki/Kamala_Harris\"\n",
    "      },\n",
    "      {\n",
    "        \"conceptUri\": \"http://en.wikipedia.org/wiki/Donald_Trump\"\n",
    "      },\n",
    "      {\n",
    "        \"conceptUri\": \"http://en.wikipedia.org/wiki/Election\"\n",
    "      },\n",
    "      {\n",
    "        \"locationUri\": \"http://en.wikipedia.org/wiki/United_States\"\n",
    "      },\n",
    "      {\n",
    "        \"dateStart\": \"2024-08-13\",\n",
    "        \"dateEnd\": \"2024-09-10\",\n",
    "        \"lang\": \"eng\"\n",
    "      }\n",
    "    ]\n",
    "  }\n",
    "}\n",
    "q = QueryArticlesIter.initWithComplexQuery(query)\n",
    "# change maxItems to get the number of results that you want\n",
    "\n",
    "result = er.execQuery(q)\n"
   ]
  },
  {
   "cell_type": "code",
   "execution_count": null,
   "metadata": {},
   "outputs": [],
   "source": [
    "print(json.dumps(result, indent=4))"
   ]
  },
  {
   "cell_type": "code",
   "execution_count": 69,
   "metadata": {},
   "outputs": [],
   "source": [
    "file_path = '/Users/sunmingrun/Documents/GitHub/ElectionGPT/NLP/output.json'\n",
    "\n",
    "# Save the JSON data to the specified file\n",
    "with open(file_path, 'w') as json_file:\n",
    "    json.dump(result, json_file, indent=4)  # 'indent=4' for pretty-printing\n",
    "\n"
   ]
  },
  {
   "cell_type": "code",
   "execution_count": 70,
   "metadata": {},
   "outputs": [],
   "source": [
    "with open(\"/Users/sunmingrun/Documents/GitHub/ElectionGPT/NLP/output.json\", 'r') as f:\n",
    "    data = json.load(f)\n",
    "\n",
    "# Extract the relevant part ('activity' in your case)\n",
    "results = data.get('articles', {}).get('results', [])\n",
    "df = json_normalize(results)\n",
    "df = df.applymap(lambda x: x[0] if isinstance(x, list) and len(x) > 0 else x)\n",
    "df.to_csv('fullnews_data.csv', index=False)\n"
   ]
  },
  {
   "cell_type": "code",
   "execution_count": 19,
   "metadata": {},
   "outputs": [
    {
     "name": "stdout",
     "output_type": "stream",
     "text": [
      "Summaries have been written to 'extracted_summaries_full.csv'\n"
     ]
    }
   ],
   "source": [
    "# Open a text file to write the summaries\n",
    "with open('extracted_summaries_full.csv', 'w') as f:\n",
    "    # Safely access 'recentActivityArticles' -> 'activity'\n",
    "    activity = data.get('articles', {}).get('activity', [])\n",
    "\n",
    "    # Iterate over each result in the 'activity' list\n",
    "    for result in activity:\n",
    "        # Extract the 'body' content if available, otherwise use a default message\n",
    "        summary = result.get(\"body\", \"No summary available\")\n",
    "        \n",
    "        # Write the summary followed by a newline character\n",
    "        f.write(summary + '\\n')\n",
    "\n",
    "print(\"Summaries have been written to 'extracted_summaries_full.csv'\")\n"
   ]
  },
  {
   "cell_type": "code",
   "execution_count": null,
   "metadata": {},
   "outputs": [],
   "source": []
  },
  {
   "cell_type": "code",
   "execution_count": null,
   "metadata": {},
   "outputs": [],
   "source": []
  },
  {
   "cell_type": "code",
   "execution_count": null,
   "metadata": {},
   "outputs": [],
   "source": []
  },
  {
   "cell_type": "code",
   "execution_count": null,
   "metadata": {},
   "outputs": [],
   "source": []
  }
 ],
 "metadata": {
  "kernelspec": {
   "display_name": "Python 3",
   "language": "python",
   "name": "python3"
  },
  "language_info": {
   "codemirror_mode": {
    "name": "ipython",
    "version": 3
   },
   "file_extension": ".py",
   "mimetype": "text/x-python",
   "name": "python",
   "nbconvert_exporter": "python",
   "pygments_lexer": "ipython3",
   "version": "3.11.1"
  }
 },
 "nbformat": 4,
 "nbformat_minor": 2
}
