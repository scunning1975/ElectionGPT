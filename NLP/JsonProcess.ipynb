{
 "cells": [
  {
   "cell_type": "code",
   "execution_count": 46,
   "metadata": {},
   "outputs": [],
   "source": [
    "import pandas as pd\n",
    "import json\n",
    "import os\n",
    "from pandas import json_normalize\n"
   ]
  },
  {
   "cell_type": "code",
   "execution_count": null,
   "metadata": {},
   "outputs": [],
   "source": [
    "with open('/Users/sunmingrun/Documents/GitHub/KamalaGPT/news_data/election_news/news_data_2024-08-30_01-00-06.json', 'r') as f:\n",
    "    data = json.load(f)\n",
    "print(json.dumps(data, indent=4))\n"
   ]
  },
  {
   "cell_type": "code",
   "execution_count": 59,
   "metadata": {},
   "outputs": [],
   "source": [
    "# Define the directory where your JSON files are located\n",
    "json_folder = '/Users/sunmingrun/Documents/GitHub/ElectionGPT/NLP/Json/'  \n",
    "json_files = [file for file in os.listdir(json_folder) if file.endswith('.json')]\n",
    "\n",
    "\n",
    "data_list = []\n",
    "\n",
    "# Loop over each file and append the data to the list\n",
    "for file in json_files:\n",
    "    file_path = os.path.join(json_folder, file)\n",
    "    with open(file_path, 'r') as f:\n",
    "        data = json.load(f)\n",
    "        # Check if 'results' exists and iterate through its list of dictionaries\n",
    "        results = data.get('results', [])\n",
    "        for result in results:\n",
    "            data_list.append(result)\n",
    "\n",
    "# Normalize and flatten the list of dictionaries into a pandas DataFrame\n",
    "df = json_normalize(data_list)\n",
    "df.to_csv('combined_news_data.csv', index=False)\n"
   ]
  },
  {
   "cell_type": "code",
   "execution_count": null,
   "metadata": {},
   "outputs": [],
   "source": []
  },
  {
   "cell_type": "code",
   "execution_count": 23,
   "metadata": {},
   "outputs": [
    {
     "name": "stdout",
     "output_type": "stream",
     "text": [
      "Summaries have been written to extracted_summaries.txt\n"
     ]
    }
   ],
   "source": [
    "# Open a text file to write the summaries\n",
    "with open('extracted_summaries.txt', 'w') as f:\n",
    "    # Iterate over each result in the \"results\" list\n",
    "    for result in data[\"results\"]:\n",
    "        # Extract the \"body\" content if available, otherwise use a default message\n",
    "        summary = result.get(\"body\", [\"No summary available\"])[0]\n",
    "        # Write the summary followed by a newline character\n",
    "        f.write(summary + '\\n')\n",
    "\n",
    "print(\"Summaries have been written to extracted_summaries.txt\")"
   ]
  },
  {
   "cell_type": "code",
   "execution_count": 28,
   "metadata": {},
   "outputs": [],
   "source": []
  },
  {
   "cell_type": "code",
   "execution_count": null,
   "metadata": {},
   "outputs": [],
   "source": [
    "\n",
    "for result in data[\"results\"]:\n",
    "    summary = result.get(\"body\", [\"No summary available\"])[0]\n",
    "    print(\"News Summary:\", summary)"
   ]
  },
  {
   "cell_type": "code",
   "execution_count": null,
   "metadata": {},
   "outputs": [],
   "source": [
    "for result in data[\"results\"]:\n",
    "    summary = result.get(\"body\", [\"No summary available\"])[0]\n",
    "    print(\"News Summary:\", summary)"
   ]
  },
  {
   "cell_type": "code",
   "execution_count": null,
   "metadata": {},
   "outputs": [],
   "source": []
  }
 ],
 "metadata": {
  "kernelspec": {
   "display_name": "Python 3",
   "language": "python",
   "name": "python3"
  },
  "language_info": {
   "codemirror_mode": {
    "name": "ipython",
    "version": 3
   },
   "file_extension": ".py",
   "mimetype": "text/x-python",
   "name": "python",
   "nbconvert_exporter": "python",
   "pygments_lexer": "ipython3",
   "version": "3.11.1"
  }
 },
 "nbformat": 4,
 "nbformat_minor": 2
}
