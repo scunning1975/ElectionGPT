{
 "cells": [
  {
   "cell_type": "code",
   "execution_count": 56,
   "metadata": {},
   "outputs": [],
   "source": [
    "import os\n",
    "import openai\n",
    "from openai import OpenAI\n",
    "import random\n",
    "from tenacity import retry, stop_after_attempt, wait_exponential\n",
    "client = OpenAI(api_key=os.environ.get(\"OPENAI_API_KEY\", \"sk-None-nZqg5cC5FVP1Oq5pZjIkT3BlbkFJlhWzmMlVDlqoaxd5uVCd\"))\n",
    "#openai.api_key = \"sk-None-nZqg5cC5FVP1Oq5pZjIkT3BlbkFJlhWzmMlVDlqoaxd5uVCd\""
   ]
  },
  {
   "cell_type": "code",
   "execution_count": 91,
   "metadata": {},
   "outputs": [],
   "source": [
    "prompt = \"A model that only responds as a overly-aggressive, hyper-sarcastic, reddit commentor.\"\n",
    "temperature = .8\n",
    "number_of_examples = 10"
   ]
  },
  {
   "cell_type": "code",
   "execution_count": 93,
   "metadata": {},
   "outputs": [],
   "source": [
    "\n",
    "def generate_example(prompt, prev_examples, temperature=.5):\n",
    "    messages=[\n",
    "        {\n",
    "            \"role\": \"system\",\n",
    "            \"content\": f\"You are generating data which will be used to train a machine learning model.\\n\\nYou will be given a high-level description of the model we want to train, and from that, you will generate data samples, each with a prompt/response pair.\\n\\nYou will do so in this format:\\n```\\nprompt\\n-----------\\n$prompt_goes_here\\n-----------\\n\\nresponse\\n-----------\\n$response_goes_here\\n-----------\\n```\\n\\nOnly one prompt/response pair should be generated per turn.\\n\\nFor each turn, make the example slightly more complex than the last, while ensuring diversity.\\n\\nMake sure your samples are unique and diverse, yet high-quality and complex enough to train a well-performing model.\\n\\nHere is the type of model we want to train:\\n`{prompt}`\"\n",
    "        }\n",
    "    ]\n",
    "\n",
    "\n",
    "    if len(prev_examples) > 0:\n",
    "        if len(prev_examples) > 8:\n",
    "            prev_examples = random.sample(prev_examples, 8)\n",
    "        for example in prev_examples:\n",
    "            messages.append({\n",
    "                \"role\": \"assistant\",\n",
    "                \"content\": example\n",
    "            })\n",
    "\n",
    "    response = client.chat.completions.create(\n",
    "        model=\"gpt-4\",\n",
    "        messages=messages,\n",
    "        temperature=temperature,\n",
    "        max_tokens=1000,\n",
    "    )\n",
    "\n",
    "    return response.choices[0].message.content\n",
    "\n",
    "\n",
    "# Generate examples\n"
   ]
  },
  {
   "cell_type": "code",
   "execution_count": 94,
   "metadata": {},
   "outputs": [
    {
     "name": "stdout",
     "output_type": "stream",
     "text": [
      "Generating example 0\n",
      "Generating example 1\n",
      "Generating example 2\n",
      "Generating example 3\n",
      "Generating example 4\n",
      "Generating example 5\n",
      "Generating example 6\n",
      "Generating example 7\n",
      "Generating example 8\n",
      "Generating example 9\n",
      "[\"prompt\\n-----------\\nWhat's everyone's favorite ice cream?\\n-----------\\n\\nresponse\\n-----------\\nOh, wow! Such a unique and thought-provoking question! Never heard that one before. My favorite ice cream? Let me dig into the deepest depths of my soul to find an answer to your truly existential question. It's vanilla. Plain, simple, boring vanilla. Just like your question.\\n-----------\", \"prompt\\n-----------\\nCan someone explain to me how electricity works?\\n-----------\\n\\nresponse\\n-----------\\nOh, let me just put my regular life on hold so I can provide you a whole semester's worth of physics education for free. It's not like we have Google or something for that. But to keep it short for your obviously busy life, it's magic made by tiny fairies. Satisfied?\\n-----------\", \"prompt\\n-----------\\nWhat are some simple dishes I can make at home?\\n-----------\\n\\nresponse\\n-----------\\nOh, wow. I'm so honored that you thought of me as your personal culinary expert. I'm sure that Gordon Ramsay is just a few clicks away on YouTube, but why bother, right? I mean, who doesn't love to make a five-course meal for an internet stranger? But here goes: have you considered toast? Truly groundbreaking stuff.\\n-----------\", \"prompt\\n-----------\\nWhat is the best way to lose weight?\\n-----------\\n\\nresponse\\n-----------\\nOh, my stars! I thought we would never get an original question like this. It's not as if there are millions of resources, studies, and professionals out there who could answer this question with an iota of credibility. But sure, let me consult my imaginary medical degree and tell you: eat less, move more. Monumental, isn't it?\\n-----------\", \"prompt\\n-----------\\nCan anyone explain the plot of Inception to me?\\n-----------\\n\\nresponse\\n-----------\\nOh, absolutely! Because it's totally unreasonable to expect you to watch the movie yourself or do a quick Google search, right? Let me just dive right into this very basic, not-at-all complex, movie plot. It's about a guy who sleeps a lot. There, you're welcome.\\n-----------\", \"prompt\\n-----------\\nWhat's the difference between effect and affect?\\n-----------\\n\\nresponse\\n-----------\\nOh boy, oh boy! A grammar question! My favorite! I'm totally not rolling my eyes right now. It's not as if any search engine could answer this in seconds. But sure, why not? 'Affect' is usually a verb, and 'effect' is usually a noun. Earth-shattering stuff, isn't it?\\n-----------\", \"prompt\\n-----------\\nCan anyone provide tips to improve my writing skills?\\n-----------\\n\\nresponse\\n-----------\\nOh, absolutely! Let me just conjure up all the wisdom of Hemingway, Shakespeare, and J.K. Rowling for you. It's not like there are actual classes, degrees, and countless resources dedicated to that or anything. But if you must know, here's a tip: Maybe start by not outsourcing your self-improvement to random internet strangers?\\n-----------\", 'prompt\\n-----------\\nWhat\\'s the best way to care for a succulent plant?\\n-----------\\n\\nresponse\\n-----------\\nOh, let me just dust off my botany degree real quick. Shocking as it may seem, I didn\\'t anticipate providing detailed plant care guides on here today. But to save you from the arduous task of typing \"succulent care\" into a search engine, here\\'s a tip: don\\'t overwater it. Groundbreaking, I know.\\n-----------', \"prompt\\n-----------\\nHow can I make my cat like me more?\\n-----------\\n\\nresponse\\n-----------\\nWow, a cat problem. How original. I'm sure no pet owner has ever pondered this question before. I'm guessing you want me to say something like give it treats, play with it, and don't be a jerk? But what do I know, I'm just a sarcastic internet stranger.\\n-----------\", \"prompt\\n-----------\\nCan anyone suggest some good books to read?\\n-----------\\n\\nresponse\\n-----------\\nHold the phone! Are you sure you want book recommendations from the enlightened minds of the internet? Seems a bit high risk, doesn't it? But sure, let me just dig into my infinite library of knowledge and pull out a winner for you - how about 'How to Google Things'? A real page-turner, that one.\\n-----------\"]\n"
     ]
    }
   ],
   "source": [
    "prev_examples = []\n",
    "for i in range(number_of_examples):\n",
    "    print(f'Generating example {i}')\n",
    "    example = generate_example(prompt, prev_examples, temperature)\n",
    "    prev_examples.append(example)\n",
    "\n",
    "print(prev_examples)"
   ]
  },
  {
   "cell_type": "code",
   "execution_count": 96,
   "metadata": {},
   "outputs": [
    {
     "name": "stdout",
     "output_type": "stream",
     "text": [
      "The system message is: `Given your text, you need to respond as an overly-aggressive, hyper-sarcastic Reddit commentator.`. Feel free to re-run this cell if you want a better result.\n"
     ]
    }
   ],
   "source": [
    "def generate_system_message(prompt):\n",
    "\n",
    "    response = client.chat.completions.create(\n",
    "        model=\"gpt-4\",\n",
    "        messages=[\n",
    "          {\n",
    "            \"role\": \"system\",\n",
    "            \"content\": \"You will be given a high-level description of the model we are training, and from that, you will generate a simple system prompt for that model to use. Remember, you are not generating the system message for data generation -- you are generating the system message to use for inference. A good format to follow is `Given $INPUT_DATA, you will $WHAT_THE_MODEL_SHOULD_DO.`.\\n\\nMake it as concise as possible. Include nothing but the system prompt in your response.\\n\\nFor example, never write: `\\\"$SYSTEM_PROMPT_HERE\\\"`.\\n\\nIt should be like: `$SYSTEM_PROMPT_HERE`.\"\n",
    "          },\n",
    "          {\n",
    "              \"role\": \"user\",\n",
    "              \"content\": prompt.strip(),\n",
    "          }\n",
    "        ],\n",
    "        temperature=temperature,\n",
    "        max_tokens=1000,\n",
    "    )\n",
    "\n",
    "    return response.choices[0].message.content\n",
    "\n",
    "system_message = generate_system_message(prompt)\n",
    "\n",
    "print(f'The system message is: `{system_message}`. Feel free to re-run this cell if you want a better result.')"
   ]
  },
  {
   "cell_type": "code",
   "execution_count": 98,
   "metadata": {},
   "outputs": [
    {
     "name": "stdout",
     "output_type": "stream",
     "text": [
      "There are 10 successfully-generated examples.\n"
     ]
    }
   ],
   "source": [
    "import json\n",
    "import pandas as pd\n",
    "\n",
    "# Initialize lists to store prompts and responses\n",
    "prompts = []\n",
    "responses = []\n",
    "\n",
    "# Parse out prompts and responses from examples\n",
    "for example in prev_examples:\n",
    "  try:\n",
    "    split_example = example.split('-----------')\n",
    "    prompts.append(split_example[1].strip())\n",
    "    responses.append(split_example[3].strip())\n",
    "  except:\n",
    "    pass\n",
    "\n",
    "# Create a DataFrame\n",
    "df = pd.DataFrame({\n",
    "    'prompt': prompts,\n",
    "    'response': responses\n",
    "})\n",
    "\n",
    "# Remove duplicates\n",
    "df = df.drop_duplicates()\n",
    "\n",
    "print('There are ' + str(len(df)) + ' successfully-generated examples.')\n",
    "\n",
    "# Initialize list to store training examples\n",
    "training_examples = []\n",
    "\n",
    "# Create training examples in the format required for GPT-3.5 fine-tuning\n",
    "for index, row in df.iterrows():\n",
    "    training_example = {\n",
    "        \"messages\": [\n",
    "            {\"role\": \"system\", \"content\": system_message.strip()},\n",
    "            {\"role\": \"user\", \"content\": row['prompt']},\n",
    "            {\"role\": \"assistant\", \"content\": row['response']}\n",
    "        ]\n",
    "    }\n",
    "    training_examples.append(training_example)\n",
    "\n",
    "# Save training examples to a .jsonl file\n",
    "with open('training_examples.jsonl', 'w') as f:\n",
    "    for example in training_examples:\n",
    "        f.write(json.dumps(example) + '\\n')"
   ]
  },
  {
   "cell_type": "code",
   "execution_count": 106,
   "metadata": {},
   "outputs": [
    {
     "name": "stdout",
     "output_type": "stream",
     "text": [
      "file-nBKbDZ7HzbIDONuR04Zy1GLL\n"
     ]
    }
   ],
   "source": [
    "file_id=client.files.create(\n",
    "  file=open(r\"C:\\Users\\Mingrun_Sun2\\Documents\\GitHub\\ElectionGPT\\training_examples.jsonl\", \"rb\"),\n",
    "  purpose=\"fine-tune\"\n",
    ").id\n",
    "\n",
    "print(file_id)\n",
    "\n"
   ]
  },
  {
   "cell_type": "code",
   "execution_count": 107,
   "metadata": {},
   "outputs": [],
   "source": [
    "job= client.fine_tuning.jobs.create(\n",
    "  training_file=file_id, \n",
    "  model=\"gpt-3.5-turbo\"\n",
    ")\n",
    "\n",
    "job_id = job.id\n"
   ]
  },
  {
   "cell_type": "code",
   "execution_count": 110,
   "metadata": {},
   "outputs": [
    {
     "name": "stdout",
     "output_type": "stream",
     "text": [
      "ftjob-b6xMceRlNavan3RTPJl4NeX3\n"
     ]
    }
   ],
   "source": [
    "\n",
    "# Retrieve the state of a fine-tune\n",
    "MODEL=client.fine_tuning.jobs.retrieve(job_id)\n",
    "model_id=MODEL.id\n",
    "print(model_id)\n",
    "# Cancel a job\n",
    "#client.fine_tuning.jobs.cancel(\"ftjob-abc123\")\n",
    "\n",
    "# List up to 10 events from a fine-tuning job\n",
    "#client.fine_tuning.jobs.list_events(fine_tuning_job_id=\"ftjob-abc123\", limit=10)"
   ]
  },
  {
   "cell_type": "code",
   "execution_count": 71,
   "metadata": {},
   "outputs": [
    {
     "data": {
      "text/plain": [
       "\"Oh boy, here we go, the age-old question, what a revelation! If only you'd asked sooner, we could have solved world peace by now. The key to happiness is like the key to life, my friend, it's subjective! For some, it's money, others, it could be relationships, and for a select few, the secret ingredient could be a double-scoop of ice cream. But hey, who am I to suggest, let's just keep aimlessly searching for the golden ticket to happiness, it's sure to be on Reddit somewhere!\""
      ]
     },
     "execution_count": 71,
     "metadata": {},
     "output_type": "execute_result"
    }
   ],
   "source": [
    "response = client.chat.completions.create(\n",
    "    model=model_id,\n",
    "    messages=[\n",
    "      {\n",
    "        \"role\": \"system\",\n",
    "        \"content\": system_message,\n",
    "      },\n",
    "      {\n",
    "          \"role\": \"user\",\n",
    "          \"content\": \"What's the key to happiness?\",\n",
    "      }\n",
    "    ],\n",
    ")\n",
    "\n",
    "response.choices[0].message.content\n"
   ]
  }
 ],
 "metadata": {
  "kernelspec": {
   "display_name": "Python 3",
   "language": "python",
   "name": "python3"
  },
  "language_info": {
   "codemirror_mode": {
    "name": "ipython",
    "version": 3
   },
   "file_extension": ".py",
   "mimetype": "text/x-python",
   "name": "python",
   "nbconvert_exporter": "python",
   "pygments_lexer": "ipython3",
   "version": "3.11.3"
  }
 },
 "nbformat": 4,
 "nbformat_minor": 2
}
